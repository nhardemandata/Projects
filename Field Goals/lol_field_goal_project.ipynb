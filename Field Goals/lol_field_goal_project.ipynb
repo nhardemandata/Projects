{
 "cells": [
  {
   "cell_type": "code",
   "execution_count": 5,
   "id": "1e213944-2d1d-4da4-a59c-8323bf14b25b",
   "metadata": {},
   "outputs": [],
   "source": [
    "import pandas as pd\n",
    "import numpy as np\n",
    "import matplotlib.pyplot as plt\n",
    "from pandas import Series, DataFrame\n",
    "import seaborn as sns"
   ]
  },
  {
   "cell_type": "code",
   "execution_count": 2,
   "id": "3c79394c-2443-4e05-bafb-424e80b5661c",
   "metadata": {},
   "outputs": [],
   "source": [
    "data = pd.read_excel('../data/2020NFLFieldGoals.xlsx')"
   ]
  },
  {
   "cell_type": "code",
   "execution_count": 4,
   "id": "a8359b73-f1ff-4bed-945f-752e1cdf4bf3",
   "metadata": {},
   "outputs": [
    {
     "data": {
      "text/html": [
       "<div>\n",
       "<style scoped>\n",
       "    .dataframe tbody tr th:only-of-type {\n",
       "        vertical-align: middle;\n",
       "    }\n",
       "\n",
       "    .dataframe tbody tr th {\n",
       "        vertical-align: top;\n",
       "    }\n",
       "\n",
       "    .dataframe thead th {\n",
       "        text-align: right;\n",
       "    }\n",
       "</style>\n",
       "<table border=\"1\" class=\"dataframe\">\n",
       "  <thead>\n",
       "    <tr style=\"text-align: right;\">\n",
       "      <th></th>\n",
       "      <th>Team</th>\n",
       "      <th>FieldGoalsMade</th>\n",
       "      <th>Attempts</th>\n",
       "      <th>FGpercentage</th>\n",
       "      <th>1to19YdA</th>\n",
       "      <th>1to19YdM</th>\n",
       "      <th>20to29YdA</th>\n",
       "      <th>20to29YdM</th>\n",
       "      <th>30to39YdA</th>\n",
       "      <th>30to39YdM</th>\n",
       "      <th>40to49YdA</th>\n",
       "      <th>40to49YdM</th>\n",
       "      <th>50PlusYdA</th>\n",
       "      <th>50PlusYdM</th>\n",
       "      <th>LongestFG</th>\n",
       "      <th>FGsBlocked</th>\n",
       "    </tr>\n",
       "  </thead>\n",
       "  <tbody>\n",
       "    <tr>\n",
       "      <th>0</th>\n",
       "      <td>49ers</td>\n",
       "      <td>22</td>\n",
       "      <td>26</td>\n",
       "      <td>84.6</td>\n",
       "      <td>0</td>\n",
       "      <td>0</td>\n",
       "      <td>3</td>\n",
       "      <td>3</td>\n",
       "      <td>8</td>\n",
       "      <td>7</td>\n",
       "      <td>11</td>\n",
       "      <td>10</td>\n",
       "      <td>4</td>\n",
       "      <td>2</td>\n",
       "      <td>52</td>\n",
       "      <td>0</td>\n",
       "    </tr>\n",
       "    <tr>\n",
       "      <th>1</th>\n",
       "      <td>Bears</td>\n",
       "      <td>30</td>\n",
       "      <td>32</td>\n",
       "      <td>93.8</td>\n",
       "      <td>0</td>\n",
       "      <td>0</td>\n",
       "      <td>9</td>\n",
       "      <td>9</td>\n",
       "      <td>10</td>\n",
       "      <td>10</td>\n",
       "      <td>10</td>\n",
       "      <td>9</td>\n",
       "      <td>3</td>\n",
       "      <td>2</td>\n",
       "      <td>55</td>\n",
       "      <td>0</td>\n",
       "    </tr>\n",
       "    <tr>\n",
       "      <th>2</th>\n",
       "      <td>Bengals</td>\n",
       "      <td>27</td>\n",
       "      <td>34</td>\n",
       "      <td>79.4</td>\n",
       "      <td>0</td>\n",
       "      <td>0</td>\n",
       "      <td>3</td>\n",
       "      <td>3</td>\n",
       "      <td>15</td>\n",
       "      <td>13</td>\n",
       "      <td>10</td>\n",
       "      <td>8</td>\n",
       "      <td>6</td>\n",
       "      <td>3</td>\n",
       "      <td>55</td>\n",
       "      <td>0</td>\n",
       "    </tr>\n",
       "    <tr>\n",
       "      <th>3</th>\n",
       "      <td>Bills</td>\n",
       "      <td>28</td>\n",
       "      <td>34</td>\n",
       "      <td>82.4</td>\n",
       "      <td>1</td>\n",
       "      <td>1</td>\n",
       "      <td>9</td>\n",
       "      <td>9</td>\n",
       "      <td>9</td>\n",
       "      <td>6</td>\n",
       "      <td>9</td>\n",
       "      <td>8</td>\n",
       "      <td>6</td>\n",
       "      <td>4</td>\n",
       "      <td>58</td>\n",
       "      <td>0</td>\n",
       "    </tr>\n",
       "    <tr>\n",
       "      <th>4</th>\n",
       "      <td>Broncos</td>\n",
       "      <td>28</td>\n",
       "      <td>35</td>\n",
       "      <td>80.0</td>\n",
       "      <td>0</td>\n",
       "      <td>0</td>\n",
       "      <td>6</td>\n",
       "      <td>6</td>\n",
       "      <td>5</td>\n",
       "      <td>4</td>\n",
       "      <td>8</td>\n",
       "      <td>8</td>\n",
       "      <td>16</td>\n",
       "      <td>10</td>\n",
       "      <td>58</td>\n",
       "      <td>2</td>\n",
       "    </tr>\n",
       "  </tbody>\n",
       "</table>\n",
       "</div>"
      ],
      "text/plain": [
       "      Team  FieldGoalsMade  Attempts  FGpercentage  1to19YdA  1to19YdM  \\\n",
       "0    49ers              22        26          84.6         0         0   \n",
       "1    Bears              30        32          93.8         0         0   \n",
       "2  Bengals              27        34          79.4         0         0   \n",
       "3    Bills              28        34          82.4         1         1   \n",
       "4  Broncos              28        35          80.0         0         0   \n",
       "\n",
       "   20to29YdA  20to29YdM  30to39YdA  30to39YdM  40to49YdA  40to49YdM  \\\n",
       "0          3          3          8          7         11         10   \n",
       "1          9          9         10         10         10          9   \n",
       "2          3          3         15         13         10          8   \n",
       "3          9          9          9          6          9          8   \n",
       "4          6          6          5          4          8          8   \n",
       "\n",
       "   50PlusYdA  50PlusYdM  LongestFG  FGsBlocked  \n",
       "0          4          2         52           0  \n",
       "1          3          2         55           0  \n",
       "2          6          3         55           0  \n",
       "3          6          4         58           0  \n",
       "4         16         10         58           2  "
      ]
     },
     "execution_count": 4,
     "metadata": {},
     "output_type": "execute_result"
    }
   ],
   "source": [
    "## data on the 2020 TEAM STATS - SPECIAL TEAMS - Field Goals\n",
    "data.head()"
   ]
  },
  {
   "cell_type": "markdown",
   "id": "8e28cfca-ba20-465a-8db3-c67d08e22208",
   "metadata": {},
   "source": [
    "### Distribution of field goal percentages"
   ]
  },
  {
   "cell_type": "markdown",
   "id": "5975a315-4ddd-4e20-a585-56126368438a",
   "metadata": {},
   "source": [
    "[Reference](https://www.nfl.com/stats/team-stats/special-teams/field-goals/2020/reg/all)"
   ]
  },
  {
   "cell_type": "code",
   "execution_count": 6,
   "id": "5680f746-418e-4884-b4d3-e9155125d508",
   "metadata": {},
   "outputs": [
    {
     "data": {
      "text/plain": [
       "<seaborn.axisgrid.FacetGrid at 0x1d3c4d5f280>"
      ]
     },
     "execution_count": 6,
     "metadata": {},
     "output_type": "execute_result"
    },
    {
     "data": {
      "image/png": "[encoded data removed]",
      "text/plain": [
       "<Figure size 360x360 with 1 Axes>"
      ]
     },
     "metadata": {
      "needs_background": "light"
     },
     "output_type": "display_data"
    }
   ],
   "source": [
    "sns.displot(data, x=\"FGpercentage\", kde=True)"
   ]
  },
  {
   "cell_type": "code",
   "execution_count": null,
   "id": "5f63c374-014a-4072-9cab-a12d29b31c3c",
   "metadata": {},
   "outputs": [],
   "source": []
  }
 ],
 "metadata": {
  "kernelspec": {
   "display_name": "Python 3 (ipykernel)",
   "language": "python",
   "name": "python3"
  },
  "language_info": {
   "codemirror_mode": {
    "name": "ipython",
    "version": 3
   },
   "file_extension": ".py",
   "mimetype": "text/x-python",
   "name": "python",
   "nbconvert_exporter": "python",
   "pygments_lexer": "ipython3",
   "version": "3.9.5"
  }
 },
 "nbformat": 4,
 "nbformat_minor": 5
}
