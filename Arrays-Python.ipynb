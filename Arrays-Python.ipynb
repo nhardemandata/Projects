{
 "cells": [
  {
   "cell_type": "code",
   "execution_count": 1,
   "id": "049e03ba-49b4-4787-abc1-576d6bba9668",
   "metadata": {},
   "outputs": [],
   "source": [
    "import numpy as np\n",
    "import pandas as pd"
   ]
  },
  {
   "cell_type": "code",
   "execution_count": 14,
   "id": "3b354629-bee1-45c5-8243-09ef8e2c862c",
   "metadata": {},
   "outputs": [],
   "source": [
    "# declare arrays\n",
    "arrayA = np.array([1, 2, 3, 4, 5, 6, 7, 8, 9])\n",
    "arrayB = np.array([10, 20, 30, 40, 50, 60, 70, 80, 90])\n",
    "arrayC = np.array([100, 200, 300, 400, 500, 600, 700, 800, 900])\n",
    "arrayD = np.array([1000, 2000, 3000, 4000, 5000, 6000, 7000, 8000, 9000])"
   ]
  },
  {
   "cell_type": "code",
   "execution_count": 15,
   "id": "d32c771a-c5fc-4153-9d7f-0ce264c2ed17",
   "metadata": {},
   "outputs": [],
   "source": [
    "df = pd.DataFrame(np.array([arrayA, arrayB, arrayC, arrayD]))"
   ]
  },
  {
   "cell_type": "code",
   "execution_count": 16,
   "id": "00f1ae3f-7d9b-4684-84e7-c9d60a3c7931",
   "metadata": {},
   "outputs": [
    {
     "data": {
      "text/html": [
       "<div>\n",
       "<style scoped>\n",
       "    .dataframe tbody tr th:only-of-type {\n",
       "        vertical-align: middle;\n",
       "    }\n",
       "\n",
       "    .dataframe tbody tr th {\n",
       "        vertical-align: top;\n",
       "    }\n",
       "\n",
       "    .dataframe thead th {\n",
       "        text-align: right;\n",
       "    }\n",
       "</style>\n",
       "<table border=\"1\" class=\"dataframe\">\n",
       "  <thead>\n",
       "    <tr style=\"text-align: right;\">\n",
       "      <th></th>\n",
       "      <th>0</th>\n",
       "      <th>1</th>\n",
       "      <th>2</th>\n",
       "      <th>3</th>\n",
       "      <th>4</th>\n",
       "      <th>5</th>\n",
       "      <th>6</th>\n",
       "      <th>7</th>\n",
       "      <th>8</th>\n",
       "    </tr>\n",
       "  </thead>\n",
       "  <tbody>\n",
       "    <tr>\n",
       "      <th>0</th>\n",
       "      <td>1</td>\n",
       "      <td>2</td>\n",
       "      <td>3</td>\n",
       "      <td>4</td>\n",
       "      <td>5</td>\n",
       "      <td>6</td>\n",
       "      <td>7</td>\n",
       "      <td>8</td>\n",
       "      <td>9</td>\n",
       "    </tr>\n",
       "    <tr>\n",
       "      <th>1</th>\n",
       "      <td>10</td>\n",
       "      <td>20</td>\n",
       "      <td>30</td>\n",
       "      <td>40</td>\n",
       "      <td>50</td>\n",
       "      <td>60</td>\n",
       "      <td>70</td>\n",
       "      <td>80</td>\n",
       "      <td>90</td>\n",
       "    </tr>\n",
       "    <tr>\n",
       "      <th>2</th>\n",
       "      <td>100</td>\n",
       "      <td>200</td>\n",
       "      <td>300</td>\n",
       "      <td>400</td>\n",
       "      <td>500</td>\n",
       "      <td>600</td>\n",
       "      <td>700</td>\n",
       "      <td>800</td>\n",
       "      <td>900</td>\n",
       "    </tr>\n",
       "    <tr>\n",
       "      <th>3</th>\n",
       "      <td>1000</td>\n",
       "      <td>2000</td>\n",
       "      <td>3000</td>\n",
       "      <td>4000</td>\n",
       "      <td>5000</td>\n",
       "      <td>6000</td>\n",
       "      <td>7000</td>\n",
       "      <td>8000</td>\n",
       "      <td>9000</td>\n",
       "    </tr>\n",
       "  </tbody>\n",
       "</table>\n",
       "</div>"
      ],
      "text/plain": [
       "      0     1     2     3     4     5     6     7     8\n",
       "0     1     2     3     4     5     6     7     8     9\n",
       "1    10    20    30    40    50    60    70    80    90\n",
       "2   100   200   300   400   500   600   700   800   900\n",
       "3  1000  2000  3000  4000  5000  6000  7000  8000  9000"
      ]
     },
     "execution_count": 16,
     "metadata": {},
     "output_type": "execute_result"
    }
   ],
   "source": [
    "df"
   ]
  },
  {
   "cell_type": "code",
   "execution_count": null,
   "id": "9c09669a-c2b9-490d-a01a-5976d3b0f9e5",
   "metadata": {},
   "outputs": [],
   "source": []
  },
  {
   "cell_type": "code",
   "execution_count": null,
   "id": "414f0cb8-d4c7-47e1-9999-1a564fc407fa",
   "metadata": {},
   "outputs": [],
   "source": []
  }
 ],
 "metadata": {
  "kernelspec": {
   "display_name": "Python 3 (ipykernel)",
   "language": "python",
   "name": "python3"
  },
  "language_info": {
   "codemirror_mode": {
    "name": "ipython",
    "version": 3
   },
   "file_extension": ".py",
   "mimetype": "text/x-python",
   "name": "python",
   "nbconvert_exporter": "python",
   "pygments_lexer": "ipython3",
   "version": "3.9.10"
  }
 },
 "nbformat": 4,
 "nbformat_minor": 5
}
