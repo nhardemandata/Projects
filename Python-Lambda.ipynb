{
 "cells": [
  {
   "cell_type": "markdown",
   "id": "f521b435-4831-4eb0-a00b-bca6347a184f",
   "metadata": {},
   "source": [
    "## Python Lambda Functions\n",
    "\n",
    "A lambda function is a small, anonymous function that is typically defined only within the block of code where it executes.\n",
    "\n",
    "> *syntax* - **lambda arguments : expression**"
   ]
  },
  {
   "cell_type": "code",
   "execution_count": 4,
   "id": "0df1abc4-9163-4d2b-b845-c287f804b5c3",
   "metadata": {},
   "outputs": [
    {
     "name": "stdout",
     "output_type": "stream",
     "text": [
      "16.0\n"
     ]
    }
   ],
   "source": [
    "## elementary lambda function\n",
    "x = lambda y : (y + 10) / 2\n",
    "\n",
    "## call to lambda function with y = 22\n",
    "print(x(22))\n",
    "\n",
    "## output should be (22 + 10) / 2\n",
    "## which equals 16 - I hope"
   ]
  },
  {
   "cell_type": "markdown",
   "id": "606d4ba3-859e-44d9-b4b1-54a9eb3e7ba3",
   "metadata": {},
   "source": [
    "The above code says \"Take x and set it equal an anonymous, locally defined function which we will now define via lambda.\n",
    "\n",
    "x equals (the call to the built-in lambda) with a variable expression locally define as y. \n",
    "\n",
    "Take that locally defined variable and add ten to it, then divide the sum by two. Assign the quotient to x.\""
   ]
  },
  {
   "cell_type": "code",
   "execution_count": 5,
   "id": "2f0fdcb9-bfb1-4bc7-8238-fe1f05dca5ff",
   "metadata": {},
   "outputs": [
    {
     "name": "stdout",
     "output_type": "stream",
     "text": [
      "2.0\n"
     ]
    }
   ],
   "source": [
    "## lambda functions can definitely take more than one argument\n",
    "x1 = lambda y, z, y1 : (((y + 10) / 2) + z) * y1\n",
    "\n",
    "## let's keep y at twenty two, make z four, and y1 one tenth\n",
    "## this should output '2.0'\n",
    "## we are adding four to sixteen and multiplying it by one tenth\n",
    "print(x1(22, 4, 0.1))"
   ]
  },
  {
   "cell_type": "markdown",
   "id": "e6c8eafa-23cd-4049-8329-813d2b95cdf9",
   "metadata": {},
   "source": [
    "### Beauty of the lambda\n",
    "\n",
    "Lambda functions work wonderfully when they are defined inside of other functions. The next example will use a lambda function that takes a number and quadruples it. The lambda function will be defined inside of a normally defined Python function. i.e. this lambda is defined with an unknown number, that the user will input, in mind."
   ]
  },
  {
   "cell_type": "code",
   "execution_count": 6,
   "id": "739f8ba2-91ba-4e42-a946-eaf9b5b4aa75",
   "metadata": {},
   "outputs": [
    {
     "name": "stdout",
     "output_type": "stream",
     "text": [
      "24\n"
     ]
    }
   ],
   "source": [
    "## this line of code defines the function that quadruples\n",
    "## initially it only manipulates a number in an variablly defined way\n",
    "def quad_function(w):\n",
    "    return lambda x : x * w\n",
    "\n",
    "## the number inserted within the \"quad_nation()\" parentheses will be the number\n",
    "## that is multiplied to lambda's x\n",
    "## since w is declared to be four, the function will quadruple x\n",
    "quadNation = quad_function(4)\n",
    "\n",
    "## after \"quadNation's w argument\" is defined to be four to number inserted into the new parentheses\n",
    "## will be the number representing lambda's x - i.e. the number to be quadrupled\n",
    "print(quadNation(6))"
   ]
  },
  {
   "cell_type": "markdown",
   "id": "837c2435-a887-4c73-80dd-73a5dbc506a5",
   "metadata": {},
   "source": [
    "Renaming the quad_function() to something more generic is best especially when trying to match the versatility of lambda functions with just as robust naming conventions\n",
    "\n",
    "Suppose the next anonymous function was going to be used to find the square root of a number. Instead of naming the function \"squareRoot_function()\" and \n",
    "making the same mistake above (with regards to the name of the function). A more appropriate and broadstrokes name would be \"root_function()\", as this\n",
    "function implies it is for finding the specifc roots of numbers. As we know, there are a lot more than just square roots..."
   ]
  },
  {
   "cell_type": "code",
   "execution_count": 25,
   "id": "021d8dfb-0d6f-4b03-b0a5-7300b99032cb",
   "metadata": {},
   "outputs": [],
   "source": [
    "## create our root function via lambda defined with an appropriately named function\n",
    "def root_function(r):\n",
    "    return lambda x : x ** (1 / r)\n",
    "## this function will return any root of any number when set up properly - it is better named; as it can be applied to a myriad \n",
    "## of numerical roots in question"
   ]
  },
  {
   "cell_type": "markdown",
   "id": "82398a84-e50f-49f4-9925-ca84d8335281",
   "metadata": {},
   "source": [
    "#### **Special note**: Python's exponential operator is \"**\" versus the standard \"^\"/carat which is used in mathematical notation."
   ]
  },
  {
   "cell_type": "code",
   "execution_count": 26,
   "id": "f3d776f8-c43a-4c8b-8572-d945795392c6",
   "metadata": {},
   "outputs": [],
   "source": [
    "## setting up a few\n",
    "\n",
    "## square root (i.e. x raised to the one half power)\n",
    "squareRoot = root_function(2)\n",
    "\n",
    "## cube root (i.e. x raised to the one third power)\n",
    "cubeRoot = root_function(3)\n",
    "\n",
    "## seventh root (i.e x raised to the one seventh power)\n",
    "seventhRoot = root_function(7)"
   ]
  },
  {
   "cell_type": "code",
   "execution_count": 27,
   "id": "ee6942f7-312c-4fa1-baa2-2ca4c5e0aef4",
   "metadata": {},
   "outputs": [
    {
     "name": "stdout",
     "output_type": "stream",
     "text": [
      "10.0\n"
     ]
    }
   ],
   "source": [
    "## testing\n",
    "\n",
    "## the square root of one hundred is ten; verify this checks out\n",
    "print(squareRoot(100))"
   ]
  },
  {
   "cell_type": "code",
   "execution_count": 28,
   "id": "75b381bf-5659-46ff-b9d3-adb9e93098f1",
   "metadata": {},
   "outputs": [
    {
     "name": "stdout",
     "output_type": "stream",
     "text": [
      "3.0\n"
     ]
    }
   ],
   "source": [
    "## the cube root of twenty-seven is three. Three copies of three all multiplied together should produce a product of twenty-seven.\n",
    "print(cubeRoot(27))"
   ]
  },
  {
   "cell_type": "code",
   "execution_count": 29,
   "id": "27316aaf-e3c5-4754-8990-6d40f2211762",
   "metadata": {},
   "outputs": [
    {
     "name": "stdout",
     "output_type": "stream",
     "text": [
      "2.194367894926449\n"
     ]
    }
   ],
   "source": [
    "## search for the seventh root of two hundred forty-five\n",
    "print(seventhRoot(245))"
   ]
  },
  {
   "cell_type": "code",
   "execution_count": 31,
   "id": "22a3264c-2527-439b-ae9d-8fef67677d40",
   "metadata": {},
   "outputs": [
    {
     "name": "stdout",
     "output_type": "stream",
     "text": [
      "244.9999999999999\n"
     ]
    }
   ],
   "source": [
    "## verify the result above from the seventhRoot() functions\n",
    "print(2.194367894926449 ** 7)\n",
    "## close enough for the computer to make two hundred forty-five"
   ]
  },
  {
   "cell_type": "markdown",
   "id": "5f228047-c2e0-4db2-a0ab-ffeca848346b",
   "metadata": {},
   "source": [
    "### Lambda to strip away unwanted characters\n",
    "\n",
    "Lambda functions can also be utilized to remove any unwanted characters such as dollar signs within a column."
   ]
  },
  {
   "cell_type": "code",
   "execution_count": 7,
   "id": "bc9f9821-ae6a-46ae-9ba2-61b0b82db3c2",
   "metadata": {},
   "outputs": [],
   "source": [
    "## import package to create a dataframe\n",
    "import pandas as pd"
   ]
  },
  {
   "cell_type": "code",
   "execution_count": 8,
   "id": "94a19c02-69f7-4e43-9c67-a8176620722d",
   "metadata": {},
   "outputs": [
    {
     "data": {
      "text/html": [
       "<div>\n",
       "<style scoped>\n",
       "    .dataframe tbody tr th:only-of-type {\n",
       "        vertical-align: middle;\n",
       "    }\n",
       "\n",
       "    .dataframe tbody tr th {\n",
       "        vertical-align: top;\n",
       "    }\n",
       "\n",
       "    .dataframe thead th {\n",
       "        text-align: right;\n",
       "    }\n",
       "</style>\n",
       "<table border=\"1\" class=\"dataframe\">\n",
       "  <thead>\n",
       "    <tr style=\"text-align: right;\">\n",
       "      <th></th>\n",
       "      <th>Item</th>\n",
       "    </tr>\n",
       "  </thead>\n",
       "  <tbody>\n",
       "    <tr>\n",
       "      <th>0</th>\n",
       "      <td>MacBook Air</td>\n",
       "    </tr>\n",
       "    <tr>\n",
       "      <th>1</th>\n",
       "      <td>MacBook Pro</td>\n",
       "    </tr>\n",
       "    <tr>\n",
       "      <th>2</th>\n",
       "      <td>iPad Air</td>\n",
       "    </tr>\n",
       "    <tr>\n",
       "      <th>3</th>\n",
       "      <td>iPad Pro</td>\n",
       "    </tr>\n",
       "  </tbody>\n",
       "</table>\n",
       "</div>"
      ],
      "text/plain": [
       "          Item\n",
       "0  MacBook Air\n",
       "1  MacBook Pro\n",
       "2     iPad Air\n",
       "3     iPad Pro"
      ]
     },
     "execution_count": 8,
     "metadata": {},
     "output_type": "execute_result"
    }
   ],
   "source": [
    "## create an empty dataframe\n",
    "df = pd.DataFrame()\n",
    "## create a column titles 'Items' and populate it with four items\n",
    "df['Item'] = ['MacBook Air', 'MacBook Pro', 'iPad Air', 'iPad Pro']\n",
    "## call the dataframe to verify creation\n",
    "df"
   ]
  },
  {
   "cell_type": "code",
   "execution_count": 9,
   "id": "1d0455a1-0dca-4d91-8010-5eb04fd83104",
   "metadata": {},
   "outputs": [
    {
     "data": {
      "text/html": [
       "<div>\n",
       "<style scoped>\n",
       "    .dataframe tbody tr th:only-of-type {\n",
       "        vertical-align: middle;\n",
       "    }\n",
       "\n",
       "    .dataframe tbody tr th {\n",
       "        vertical-align: top;\n",
       "    }\n",
       "\n",
       "    .dataframe thead th {\n",
       "        text-align: right;\n",
       "    }\n",
       "</style>\n",
       "<table border=\"1\" class=\"dataframe\">\n",
       "  <thead>\n",
       "    <tr style=\"text-align: right;\">\n",
       "      <th></th>\n",
       "      <th>Item</th>\n",
       "      <th>Cost</th>\n",
       "    </tr>\n",
       "  </thead>\n",
       "  <tbody>\n",
       "    <tr>\n",
       "      <th>0</th>\n",
       "      <td>MacBook Air</td>\n",
       "      <td>$999.00</td>\n",
       "    </tr>\n",
       "    <tr>\n",
       "      <th>1</th>\n",
       "      <td>MacBook Pro</td>\n",
       "      <td>$1299.00</td>\n",
       "    </tr>\n",
       "    <tr>\n",
       "      <th>2</th>\n",
       "      <td>iPad Air</td>\n",
       "      <td>$599.00</td>\n",
       "    </tr>\n",
       "    <tr>\n",
       "      <th>3</th>\n",
       "      <td>iPad Pro</td>\n",
       "      <td>$799.00</td>\n",
       "    </tr>\n",
       "  </tbody>\n",
       "</table>\n",
       "</div>"
      ],
      "text/plain": [
       "          Item      Cost\n",
       "0  MacBook Air   $999.00\n",
       "1  MacBook Pro  $1299.00\n",
       "2     iPad Air   $599.00\n",
       "3     iPad Pro   $799.00"
      ]
     },
     "execution_count": 9,
     "metadata": {},
     "output_type": "execute_result"
    }
   ],
   "source": [
    "## add cost column with the costs of the respective items\n",
    "df['Cost'] = ['$999.00', '$1299.00', '$599.00', '$799.00']\n",
    "## inspect the dataframe\n",
    "df"
   ]
  },
  {
   "cell_type": "markdown",
   "id": "6a9f6530-ae69-410c-923b-f6f213dd6a4d",
   "metadata": {},
   "source": [
    "Suppose you were tasked with removing the '$' character and the '.00' characters. A fantastic way to go about with would be a lambda function."
   ]
  },
  {
   "cell_type": "code",
   "execution_count": 12,
   "id": "303211a2-7ba9-4c67-86c1-8b32f184b6d2",
   "metadata": {},
   "outputs": [
    {
     "data": {
      "text/html": [
       "<div>\n",
       "<style scoped>\n",
       "    .dataframe tbody tr th:only-of-type {\n",
       "        vertical-align: middle;\n",
       "    }\n",
       "\n",
       "    .dataframe tbody tr th {\n",
       "        vertical-align: top;\n",
       "    }\n",
       "\n",
       "    .dataframe thead th {\n",
       "        text-align: right;\n",
       "    }\n",
       "</style>\n",
       "<table border=\"1\" class=\"dataframe\">\n",
       "  <thead>\n",
       "    <tr style=\"text-align: right;\">\n",
       "      <th></th>\n",
       "      <th>Item</th>\n",
       "      <th>Cost</th>\n",
       "    </tr>\n",
       "  </thead>\n",
       "  <tbody>\n",
       "    <tr>\n",
       "      <th>0</th>\n",
       "      <td>MacBook Air</td>\n",
       "      <td>$999.00</td>\n",
       "    </tr>\n",
       "    <tr>\n",
       "      <th>1</th>\n",
       "      <td>MacBook Pro</td>\n",
       "      <td>$1299.00</td>\n",
       "    </tr>\n",
       "    <tr>\n",
       "      <th>2</th>\n",
       "      <td>iPad Air</td>\n",
       "      <td>$599.00</td>\n",
       "    </tr>\n",
       "    <tr>\n",
       "      <th>3</th>\n",
       "      <td>iPad Pro</td>\n",
       "      <td>$799.00</td>\n",
       "    </tr>\n",
       "  </tbody>\n",
       "</table>\n",
       "</div>"
      ],
      "text/plain": [
       "          Item      Cost\n",
       "0  MacBook Air   $999.00\n",
       "1  MacBook Pro  $1299.00\n",
       "2     iPad Air   $599.00\n",
       "3     iPad Pro   $799.00"
      ]
     },
     "execution_count": 12,
     "metadata": {},
     "output_type": "execute_result"
    }
   ],
   "source": [
    "## make a copy of the data, just in case\n",
    "df1 = df.copy()\n",
    "## inspect copy\n",
    "df1"
   ]
  },
  {
   "cell_type": "code",
   "execution_count": 17,
   "id": "f9df8b00-41d9-4ece-bd76-f03292d09ee5",
   "metadata": {},
   "outputs": [
    {
     "data": {
      "text/html": [
       "<div>\n",
       "<style scoped>\n",
       "    .dataframe tbody tr th:only-of-type {\n",
       "        vertical-align: middle;\n",
       "    }\n",
       "\n",
       "    .dataframe tbody tr th {\n",
       "        vertical-align: top;\n",
       "    }\n",
       "\n",
       "    .dataframe thead th {\n",
       "        text-align: right;\n",
       "    }\n",
       "</style>\n",
       "<table border=\"1\" class=\"dataframe\">\n",
       "  <thead>\n",
       "    <tr style=\"text-align: right;\">\n",
       "      <th></th>\n",
       "      <th>Item</th>\n",
       "      <th>Cost</th>\n",
       "    </tr>\n",
       "  </thead>\n",
       "  <tbody>\n",
       "    <tr>\n",
       "      <th>0</th>\n",
       "      <td>MacBook Air</td>\n",
       "      <td>999</td>\n",
       "    </tr>\n",
       "    <tr>\n",
       "      <th>1</th>\n",
       "      <td>MacBook Pro</td>\n",
       "      <td>1299</td>\n",
       "    </tr>\n",
       "    <tr>\n",
       "      <th>2</th>\n",
       "      <td>iPad Air</td>\n",
       "      <td>599</td>\n",
       "    </tr>\n",
       "    <tr>\n",
       "      <th>3</th>\n",
       "      <td>iPad Pro</td>\n",
       "      <td>799</td>\n",
       "    </tr>\n",
       "  </tbody>\n",
       "</table>\n",
       "</div>"
      ],
      "text/plain": [
       "          Item  Cost\n",
       "0  MacBook Air   999\n",
       "1  MacBook Pro  1299\n",
       "2     iPad Air   599\n",
       "3     iPad Pro   799"
      ]
     },
     "execution_count": 17,
     "metadata": {},
     "output_type": "execute_result"
    }
   ],
   "source": [
    "## remove or strip away the dollar sign\n",
    "df1['Cost'] = df1['Cost'].apply(lambda x: x.strip('$'))\n",
    "df1"
   ]
  },
  {
   "cell_type": "code",
   "execution_count": 18,
   "id": "b34b1a1e-ae47-4f6c-8001-338d4dce885d",
   "metadata": {},
   "outputs": [
    {
     "data": {
      "text/html": [
       "<div>\n",
       "<style scoped>\n",
       "    .dataframe tbody tr th:only-of-type {\n",
       "        vertical-align: middle;\n",
       "    }\n",
       "\n",
       "    .dataframe tbody tr th {\n",
       "        vertical-align: top;\n",
       "    }\n",
       "\n",
       "    .dataframe thead th {\n",
       "        text-align: right;\n",
       "    }\n",
       "</style>\n",
       "<table border=\"1\" class=\"dataframe\">\n",
       "  <thead>\n",
       "    <tr style=\"text-align: right;\">\n",
       "      <th></th>\n",
       "      <th>Item</th>\n",
       "      <th>Cost</th>\n",
       "    </tr>\n",
       "  </thead>\n",
       "  <tbody>\n",
       "    <tr>\n",
       "      <th>0</th>\n",
       "      <td>MacBook Air</td>\n",
       "      <td>999</td>\n",
       "    </tr>\n",
       "    <tr>\n",
       "      <th>1</th>\n",
       "      <td>MacBook Pro</td>\n",
       "      <td>1299</td>\n",
       "    </tr>\n",
       "    <tr>\n",
       "      <th>2</th>\n",
       "      <td>iPad Air</td>\n",
       "      <td>599</td>\n",
       "    </tr>\n",
       "    <tr>\n",
       "      <th>3</th>\n",
       "      <td>iPad Pro</td>\n",
       "      <td>799</td>\n",
       "    </tr>\n",
       "  </tbody>\n",
       "</table>\n",
       "</div>"
      ],
      "text/plain": [
       "          Item  Cost\n",
       "0  MacBook Air   999\n",
       "1  MacBook Pro  1299\n",
       "2     iPad Air   599\n",
       "3     iPad Pro   799"
      ]
     },
     "execution_count": 18,
     "metadata": {},
     "output_type": "execute_result"
    }
   ],
   "source": [
    "## follow suit for the decimals with trailing cents\n",
    "df1['Cost'] = df1['Cost'].apply(lambda x: x.strip('.00'))\n",
    "df1"
   ]
  },
  {
   "cell_type": "code",
   "execution_count": null,
   "id": "258e26ee-e9cc-47d4-9b36-46ae694a4e92",
   "metadata": {},
   "outputs": [],
   "source": []
  }
 ],
 "metadata": {
  "kernelspec": {
   "display_name": "Python 3 (ipykernel)",
   "language": "python",
   "name": "python3"
  },
  "language_info": {
   "codemirror_mode": {
    "name": "ipython",
    "version": 3
   },
   "file_extension": ".py",
   "mimetype": "text/x-python",
   "name": "python",
   "nbconvert_exporter": "python",
   "pygments_lexer": "ipython3",
   "version": "3.9.13"
  }
 },
 "nbformat": 4,
 "nbformat_minor": 5
}
