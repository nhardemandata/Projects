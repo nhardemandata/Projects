{
 "cells": [
  {
   "cell_type": "code",
   "execution_count": 1,
   "id": "07fe22c2-b38b-4e5f-843d-d09e90739406",
   "metadata": {},
   "outputs": [],
   "source": [
    "## Cigarette data set exploration"
   ]
  },
  {
   "cell_type": "code",
   "execution_count": null,
   "id": "aee7e4e7-9676-4d1c-b980-415a2febbddf",
   "metadata": {},
   "outputs": [],
   "source": []
  }
 ],
 "metadata": {
  "kernelspec": {
   "display_name": "R",
   "language": "R",
   "name": "ir"
  },
  "language_info": {
   "codemirror_mode": "r",
   "file_extension": ".r",
   "mimetype": "text/x-r-source",
   "name": "R",
   "pygments_lexer": "r",
   "version": "4.1.0"
  }
 },
 "nbformat": 4,
 "nbformat_minor": 5
}
