{
 "cells": [
  {
   "cell_type": "code",
   "execution_count": 1,
   "id": "4a39df97-4242-45be-9a4c-62a1a8922b17",
   "metadata": {},
   "outputs": [],
   "source": [
    "import pandas as pd\n",
    "import sagemaker\n",
    "import boto3\n",
    "import matplotlib.pyplot as plt\n",
    "%matplotlib inline\n",
    "%config InlineBackend.figure_format='retina'\n",
    "import seaborn as sns\n",
    "import s3fs\n",
    "import csv"
   ]
  },
  {
   "cell_type": "code",
   "execution_count": 6,
   "id": "c89c8475-8275-4b4a-9b0a-c9c405325aeb",
   "metadata": {},
   "outputs": [
    {
     "name": "stdout",
     "output_type": "stream",
     "text": [
      "                           PRE global-catch-data/\n",
      "                           PRE spatial-catch-maps/\n"
     ]
    }
   ],
   "source": [
    "!aws s3 ls --no-sign-request s3://fisheries-catch-data/"
   ]
  },
  {
   "cell_type": "code",
   "execution_count": 3,
   "id": "f4406160-c3ac-453f-bcc1-27aa5997ec0e",
   "metadata": {},
   "outputs": [],
   "source": [
    "## The above ran - where did it go?"
   ]
  },
  {
   "cell_type": "code",
   "execution_count": null,
   "id": "149927a0-4339-4bae-8f88-b2303bb50b24",
   "metadata": {},
   "outputs": [],
   "source": []
  }
 ],
 "metadata": {
  "kernelspec": {
   "display_name": "Python 3 (ipykernel)",
   "language": "python",
   "name": "python3"
  },
  "language_info": {
   "codemirror_mode": {
    "name": "ipython",
    "version": 3
   },
   "file_extension": ".py",
   "mimetype": "text/x-python",
   "name": "python",
   "nbconvert_exporter": "python",
   "pygments_lexer": "ipython3",
   "version": "3.9.10"
  }
 },
 "nbformat": 4,
 "nbformat_minor": 5
}
