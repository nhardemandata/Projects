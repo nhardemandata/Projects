{
 "cells": [
  {
   "cell_type": "code",
   "execution_count": 6,
   "id": "987882f6-2c83-44a0-92f8-06fe8a8d15e0",
   "metadata": {
    "jp-MarkdownHeadingCollapsed": true,
    "tags": []
   },
   "outputs": [
    {
     "name": "stdout",
     "output_type": "stream",
     "text": [
      "zsh:cd:1: no such file or directory: /cling-install-prefix/share/cling/Jupyter/kernel\n",
      "\u001b[33mDEPRECATION: Configuring installation scheme with distutils config files is deprecated and will no longer work in the near future. If you are using a Homebrew or Linuxbrew Python, please see discussion at https://github.com/Homebrew/homebrew-core/issues/76621\u001b[0m\u001b[33m\n",
      "\u001b[0mObtaining file:///Users/nolanhardeman/Documents/GitHub/Projects\n",
      "\u001b[31mERROR: file:///Users/nolanhardeman/Documents/GitHub/Projects does not appear to be a Python project: neither 'setup.py' nor 'pyproject.toml' found.\u001b[0m\u001b[31m\n",
      "\u001b[0mzsh:1: no matches found: [--user]\n",
      "zsh:1: no matches found: [--user]\n",
      "zsh:1: no matches found: [--user]\n",
      "zsh:1: no matches found: [--user]\n"
     ]
    }
   ],
   "source": [
    "!export PATH=/cling-install-prefix/bin:$PATH\n",
    "\n",
    "!cd /cling-install-prefix/share/cling/Jupyter/kernel\n",
    "\n",
    "!pip install -e .\n",
    "# or: pip3 install -e .\n",
    "\n",
    "# register the kernelspec for C++17/C++1z/C++14/C++11:\n",
    "# the user can install whichever kernel(s) they\n",
    "# wish:\n",
    "!jupyter-kernelspec install [--user] cling-cpp17\n",
    "!jupyter-kernelspec install [--user] cling-cpp1z\n",
    "!jupyter-kernelspec install [--user] cling-cpp14\n",
    "!jupyter-kernelspec install [--user] cling-cpp11"
   ]
  },
  {
   "cell_type": "code",
   "execution_count": null,
   "id": "291424b9-9a0a-4c2e-acb7-ac7a4b789e4b",
   "metadata": {},
   "outputs": [],
   "source": [
    "!pip "
   ]
  }
 ],
 "metadata": {
  "kernelspec": {
   "display_name": "Python 3 (ipykernel)",
   "language": "python",
   "name": "python3"
  },
  "language_info": {
   "codemirror_mode": {
    "name": "ipython",
    "version": 3
   },
   "file_extension": ".py",
   "mimetype": "text/x-python",
   "name": "python",
   "nbconvert_exporter": "python",
   "pygments_lexer": "ipython3",
   "version": "3.9.9"
  }
 },
 "nbformat": 4,
 "nbformat_minor": 5
}
